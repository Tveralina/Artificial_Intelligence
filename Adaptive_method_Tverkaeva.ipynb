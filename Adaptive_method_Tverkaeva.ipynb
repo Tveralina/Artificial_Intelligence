{
  "nbformat": 4,
  "nbformat_minor": 0,
  "metadata": {
    "colab": {
      "name": "Adaptive_method_Tverkaeva.ipynb",
      "provenance": [],
      "collapsed_sections": [],
      "include_colab_link": true
    },
    "kernelspec": {
      "name": "python3",
      "display_name": "Python 3"
    }
  },
  "cells": [
    {
      "cell_type": "markdown",
      "metadata": {
        "id": "view-in-github",
        "colab_type": "text"
      },
      "source": [
        "<a href=\"https://colab.research.google.com/github/Tveralina/Artificial_Intelligence/blob/master/Adaptive_method_Tverkaeva.ipynb\" target=\"_parent\"><img src=\"https://colab.research.google.com/assets/colab-badge.svg\" alt=\"Open In Colab\"/></a>"
      ]
    },
    {
      "cell_type": "code",
      "metadata": {
        "id": "ZxjkMs4LkJRs"
      },
      "source": [
        "import numpy as np\r\n",
        "\r\n",
        "# Сигмоида \r\n",
        "def nonlin(x,deriv=False):\r\n",
        "    if(deriv==True):\r\n",
        "        return x*(1-x)\r\n",
        "    return 1/(1+np.exp(-x))"
      ],
      "execution_count": 2,
      "outputs": []
    },
    {
      "cell_type": "code",
      "metadata": {
        "id": "EqLrodppI1E_"
      },
      "source": [
        "# Набор входных данных\r\n",
        "X = np.array([  [0,0,1],\r\n",
        "                [0,1,1],\r\n",
        "                [1,0,1],\r\n",
        "                [1,1,1] ])"
      ],
      "execution_count": 3,
      "outputs": []
    },
    {
      "cell_type": "code",
      "metadata": {
        "colab": {
          "base_uri": "https://localhost:8080/"
        },
        "id": "42b1te1fI4Ct",
        "outputId": "9fb87b5d-e8dd-4347-c91b-7221c4ca1d47"
      },
      "source": [
        "# Выходные данные            \r\n",
        "y = np.array([[0,0,1,1]]).T\r\n",
        "print(y)"
      ],
      "execution_count": 4,
      "outputs": [
        {
          "output_type": "stream",
          "text": [
            "[[0]\n",
            " [0]\n",
            " [1]\n",
            " [1]]\n"
          ],
          "name": "stdout"
        }
      ]
    },
    {
      "cell_type": "code",
      "metadata": {
        "id": "xvEVxmFjI6et"
      },
      "source": [
        "# Делаем случайные числа более определёнными\r\n",
        "np.random.seed(1)"
      ],
      "execution_count": 5,
      "outputs": []
    },
    {
      "cell_type": "code",
      "metadata": {
        "colab": {
          "base_uri": "https://localhost:8080/"
        },
        "id": "qPVW8cntI79d",
        "outputId": "4cb3e58d-5a67-4421-8a06-c28f2a51d41a"
      },
      "source": [
        "# Инициализируем веса случайным образом со средним 0\r\n",
        "syn0 = 2*np.random.random((3,1)) - 1\r\n",
        "print(syn0)"
      ],
      "execution_count": 6,
      "outputs": [
        {
          "output_type": "stream",
          "text": [
            "[[-0.16595599]\n",
            " [ 0.44064899]\n",
            " [-0.99977125]]\n"
          ],
          "name": "stdout"
        }
      ]
    },
    {
      "cell_type": "code",
      "metadata": {
        "colab": {
          "base_uri": "https://localhost:8080/"
        },
        "id": "KaPUb9h_KAW1",
        "outputId": "046aa19b-5323-4796-eae3-11d653558395"
      },
      "source": [
        "for iter in range(1000):\r\n",
        "\r\n",
        "    # Прямое распространение\r\n",
        "    l0 = X\r\n",
        "    l1 = nonlin(np.dot(l0,syn0))\r\n",
        "    \r\n",
        "    # Насколько ошиблись?\r\n",
        "    l1_error = y - l1\r\n",
        "\r\n",
        "    # Перемножение с наклоном сигмоиды на основе значений в l1\r\n",
        "    l1_delta = l1_error * nonlin(l1,True)\r\n",
        "\r\n",
        "    # Обновление веса\r\n",
        "    syn0 += np.dot(l0.T,l1_delta) # !!!\r\n",
        "\r\n",
        "print (\"Выходные данные после тренировки:\")\r\n",
        "print (l1)"
      ],
      "execution_count": 8,
      "outputs": [
        {
          "output_type": "stream",
          "text": [
            "Выходные данные после тренировки:\n",
            "[[0.02210697]\n",
            " [0.01793972]\n",
            " [0.98540523]\n",
            " [0.98200075]]\n"
          ],
          "name": "stdout"
        }
      ]
    }
  ]
}